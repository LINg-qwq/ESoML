{
 "cells": [
  {
   "cell_type": "code",
   "execution_count": 1,
   "id": "initial_id",
   "metadata": {
    "ExecuteTime": {
     "end_time": "2025-05-17T19:06:47.445366800Z",
     "start_time": "2025-05-17T19:06:46.205257700Z"
    },
    "collapsed": true
   },
   "outputs": [],
   "source": [
    "import pandas as pd\n",
    "import numpy as np\n",
    "from utils import mongo_helper\n",
    "import requests\n",
    "from assets.web_config import headers, payload\n",
    "import matplotlib.pyplot as plt\n",
    "import warnings\n",
    "warnings.filterwarnings(\"ignore\")"
   ]
  },
  {
   "cell_type": "code",
   "execution_count": null,
   "id": "20d98e1d30fc08ba",
   "metadata": {
    "ExecuteTime": {
     "end_time": "2025-05-17T19:06:49.882823800Z",
     "start_time": "2025-05-17T19:06:49.809463100Z"
    },
    "collapsed": false
   },
   "outputs": [],
   "source": [
    "mongo = mongo_helper.MongoHelper()\n",
    "all_issues = mongo.db[\"data\"].find()\n",
    "issues_df = pd.DataFrame(all_issues)\n",
    "issues_df"
   ]
  },
  {
   "cell_type": "code",
   "execution_count": null,
   "id": "25d2e176496eecf7",
   "metadata": {
    "ExecuteTime": {
     "end_time": "2025-05-17T19:22:42.484283900Z",
     "start_time": "2025-05-17T19:08:54.026360100Z"
    },
    "collapsed": false
   },
   "outputs": [],
   "source": [
    "from tqdm import tqdm\n",
    "\n",
    "def get_change_info(df):\n",
    "    raw_url = df['url']\n",
    "    api_url = str(raw_url).replace(\"github.com\", \"api.github.com/repos\").replace(\"pull\", \"pulls\")\n",
    "    response_json = requests.request(\"GET\", api_url, headers=headers, data=payload).json()\n",
    "    if \"changed_files\" in response_json:\n",
    "        return response_json['commits'], response_json['additions'], response_json['deletions'], response_json['changed_files']\n",
    "    else:\n",
    "        print(\"no changed files found\")\n",
    "        return np.nan,np.nan,np.nan,np.nan\n",
    "\n",
    "tqdm.pandas()\n",
    "\n",
    "issues_df[[\"commit_num\", \"addition_lines_num\", \"deletion_lines_num\", \"changed_file_num\"]] = issues_df.progress_apply(get_change_info, axis=1, result_type=\"expand\")\n",
    "simplify_issues_df = issues_df[[\"tag\", \"commit_num\", \"addition_lines_num\", \"deletion_lines_num\", \"changed_file_num\"]]\n",
    "simplify_issues_df"
   ]
  },
  {
   "cell_type": "code",
   "execution_count": null,
   "id": "712f6864e848b124",
   "metadata": {
    "ExecuteTime": {
     "end_time": "2025-05-17T19:40:03.469155300Z",
     "start_time": "2025-05-17T19:40:03.428157400Z"
    },
    "collapsed": false
   },
   "outputs": [],
   "source": [
    "def get_total_changed_line_num(df):\n",
    "    return df[\"addition_lines_num\"] + df[\"deletion_lines_num\"]\n",
    "\n",
    "simplify_issues_df.loc[:, \"changed_lines_num\"] = simplify_issues_df.progress_apply(get_total_changed_line_num, axis=1)\n",
    "simplify_issues_df"
   ]
  },
  {
   "cell_type": "code",
   "execution_count": null,
   "id": "215f0d8d08ab47b8",
   "metadata": {
    "ExecuteTime": {
     "end_time": "2025-05-18T08:27:03.466921400Z",
     "start_time": "2025-05-18T08:27:03.424464600Z"
    },
    "collapsed": false
   },
   "outputs": [],
   "source": [
    "print(simplify_issues_df.groupby('tag')['changed_file_num'].max())"
   ]
  },
  {
   "cell_type": "code",
   "execution_count": null,
   "id": "cb8092b73569e7e3",
   "metadata": {
    "ExecuteTime": {
     "end_time": "2025-05-18T08:44:46.231808900Z",
     "start_time": "2025-05-18T08:44:46.180235700Z"
    },
    "collapsed": false
   },
   "outputs": [],
   "source": [
    "def get_avg_changed_line_num_per_file(df):\n",
    "    return df[\"changed_lines_num\"]/df[\"changed_file_num\"]\n",
    "\n",
    "simplify_issues_df.loc[:, \"avg_changed_lines_per_file\"] = simplify_issues_df.progress_apply(get_avg_changed_line_num_per_file, axis=1)\n",
    "simplify_issues_df"
   ]
  },
  {
   "cell_type": "code",
   "execution_count": null,
   "id": "efd9aee2bf794e61",
   "metadata": {
    "ExecuteTime": {
     "end_time": "2025-05-18T08:44:47.812222500Z",
     "start_time": "2025-05-18T08:44:47.793537800Z"
    },
    "collapsed": false
   },
   "outputs": [],
   "source": [
    "grouped_df = simplify_issues_df.groupby('tag').filter(lambda x: len(x)>1).groupby('tag')\n",
    "grouped_df"
   ]
  },
  {
   "cell_type": "code",
   "execution_count": null,
   "id": "c95abc22ed5224b2",
   "metadata": {
    "ExecuteTime": {
     "end_time": "2025-05-18T08:44:49.552385900Z",
     "start_time": "2025-05-18T08:44:49.529967700Z"
    },
    "collapsed": false
   },
   "outputs": [],
   "source": [
    "# changed_lines_num\n",
    "changed_lines_data = []\n",
    "for name, group in grouped_df:\n",
    "    changed_lines_data.append((name, group['changed_lines_num']))\n",
    "changed_lines_data"
   ]
  },
  {
   "cell_type": "code",
   "execution_count": null,
   "id": "111924b969c62200",
   "metadata": {
    "ExecuteTime": {
     "end_time": "2025-05-18T08:44:51.225316400Z",
     "start_time": "2025-05-18T08:44:51.189098200Z"
    },
    "collapsed": false
   },
   "outputs": [],
   "source": [
    "def get_median(ele):\n",
    "    return ele[1].median()\n",
    "changed_lines_data.sort(key=get_median)\n",
    "changed_lines_data"
   ]
  },
  {
   "cell_type": "code",
   "execution_count": null,
   "id": "a80531b0215c103e",
   "metadata": {
    "ExecuteTime": {
     "end_time": "2025-05-18T08:44:53.040216Z",
     "start_time": "2025-05-18T08:44:53.002841100Z"
    },
    "collapsed": false
   },
   "outputs": [],
   "source": [
    "# labels = changed_lines_data.apply(lambda x: str(x[0]).replace(\"_\",\" \"), axis=1)\n",
    "# labels=[x[0] for x in changed_lines_data]\n",
    "\n",
    "label_list = []\n",
    "\n",
    "for x in changed_lines_data:\n",
    "    new_label = str(x[0]).replace(\"_\",\" \")\n",
    "    if new_label == \"exception\":\n",
    "        new_label = \"leak on exception\"\n",
    "    print(new_label)\n",
    "    label_list.append(new_label)"
   ]
  },
  {
   "cell_type": "code",
   "execution_count": null,
   "id": "bc50ad773a1615af",
   "metadata": {
    "ExecuteTime": {
     "end_time": "2025-05-18T08:45:08.145245500Z",
     "start_time": "2025-05-18T08:45:07.836939900Z"
    },
    "collapsed": false
   },
   "outputs": [],
   "source": [
    "\n",
    "plt.boxplot([x[1] for x in changed_lines_data], \n",
    "            labels=label_list, \n",
    "            vert=False, showfliers=False)\n",
    "# plt.xlabel(\"Changed LoC\")\n",
    "# plt.ylabel(\"Type\")\n",
    "plt.savefig(\"../files/pics/type-changed_lines-boxplot.svg\", dpi=300, format=\"svg\", bbox_inches='tight')"
   ]
  },
  {
   "cell_type": "code",
   "execution_count": null,
   "id": "bef57757f91cd451",
   "metadata": {
    "ExecuteTime": {
     "end_time": "2025-05-18T08:45:27.588614400Z",
     "start_time": "2025-05-18T08:45:27.293344800Z"
    },
    "collapsed": false
   },
   "outputs": [],
   "source": [
    "def get_labels(datas):\n",
    "    new_labels = []\n",
    "    for data in datas:\n",
    "        my_new_label = str(data[0]).replace(\"_\",\" \")\n",
    "        if my_new_label == \"exception\":\n",
    "            my_new_label = \"leak on exception\"\n",
    "        new_labels.append(my_new_label)\n",
    "    return new_labels\n",
    "    \n",
    "\n",
    "# avg_changed_lines_per_file_num\n",
    "avg_changed_lines_per_file_data = []\n",
    "for name, group in grouped_df:\n",
    "    avg_changed_lines_per_file_data.append((name, group['avg_changed_lines_per_file']))\n",
    "\n",
    "avg_changed_lines_per_file_data.sort(key=get_median)\n",
    "\n",
    "plt.boxplot([x[1] for x in avg_changed_lines_per_file_data], \n",
    "            labels=get_labels(avg_changed_lines_per_file_data),\n",
    "            vert=False, showfliers=False)\n",
    "# plt.xlabel(\"Average Changed Lines per File\")\n",
    "# plt.ylabel(\"Type\")\n",
    "plt.savefig(\"../files/pics/type-avg_changed_lines_per_file-boxplot.svg\", dpi=300, format=\"svg\", bbox_inches='tight')"
   ]
  },
  {
   "cell_type": "code",
   "execution_count": null,
   "id": "3e8a91079172c0b0",
   "metadata": {
    "ExecuteTime": {
     "end_time": "2025-05-18T08:45:31.578056Z",
     "start_time": "2025-05-18T08:45:31.196004800Z"
    },
    "collapsed": false
   },
   "outputs": [],
   "source": [
    "# change_file_num\n",
    "change_file_data = []\n",
    "for name, group in grouped_df:\n",
    "    change_file_data.append((name, group['changed_file_num']))\n",
    "\n",
    "\n",
    "\n",
    "change_file_data.sort(key=get_median)\n",
    "\n",
    "plt.boxplot([x[1] for x in change_file_data], \n",
    "            labels=get_labels(change_file_data), \n",
    "            vert=False, showmeans=True,\n",
    "            showfliers=False)\n",
    "# plt.xlabel(\"Changed File(s)\")\n",
    "# plt.ylabel(\"Type\")\n",
    "plt.savefig(\"../files/pics/type-Changed_file_num.svg\", dpi=300, format=\"svg\", bbox_inches='tight')"
   ]
  },
  {
   "cell_type": "code",
   "execution_count": null,
   "id": "202aaa9e2a03a84",
   "metadata": {
    "ExecuteTime": {
     "end_time": "2024-10-26T09:33:46.802396300Z",
     "start_time": "2024-10-26T09:33:46.787626300Z"
    },
    "collapsed": false
   },
   "outputs": [],
   "source": [
    "print(simplify_issues_df.groupby('tag')['changed_file_num'].max())"
   ]
  },
  {
   "cell_type": "code",
   "execution_count": null,
   "id": "c81d1bdff9e11d7a",
   "metadata": {
    "ExecuteTime": {
     "end_time": "2024-10-26T12:05:16.478326900Z",
     "start_time": "2024-10-26T12:05:16.163370900Z"
    },
    "collapsed": false
   },
   "outputs": [],
   "source": [
    "import utils.time_util as tu\n",
    "\n",
    "def applied_delta(df):\n",
    "    return tu.get_time_delta(\n",
    "        tu.to_time_stamp(df['time']), \n",
    "        tu.to_time_stamp(df['fixtime'])\n",
    "    )\n",
    "\n",
    "issues_df.loc[:,'day_of_fix'] = issues_df.progress_apply(applied_delta, axis=1)\n",
    "time_changed_df = issues_df[[\"day_of_fix\", \"changed_file_num\"]]\n",
    "\n",
    "plt.scatter('day_of_fix', 'changed_file_num', data=time_changed_df, s=20)\n",
    "plt.show()"
   ]
  },
  {
   "cell_type": "code",
   "execution_count": null,
   "id": "885e3feb17cfa2a8",
   "metadata": {
    "collapsed": false
   },
   "outputs": [],
   "source": []
  }
 ],
 "metadata": {
  "kernelspec": {
   "display_name": "Python 3",
   "language": "python",
   "name": "python3"
  },
  "language_info": {
   "codemirror_mode": {
    "name": "ipython",
    "version": 2
   },
   "file_extension": ".py",
   "mimetype": "text/x-python",
   "name": "python",
   "nbconvert_exporter": "python",
   "pygments_lexer": "ipython2",
   "version": "2.7.6"
  }
 },
 "nbformat": 4,
 "nbformat_minor": 5
}
