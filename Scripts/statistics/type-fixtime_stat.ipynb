{
 "cells": [
  {
   "cell_type": "code",
   "execution_count": 1,
   "id": "initial_id",
   "metadata": {
    "ExecuteTime": {
     "end_time": "2025-05-18T08:49:39.702011500Z",
     "start_time": "2025-05-18T08:49:38.977917200Z"
    },
    "collapsed": true
   },
   "outputs": [],
   "source": [
    "from utils.mongo_helper import MongoHelper\n",
    "import pandas as pd\n",
    "import matplotlib.pyplot as plt\n",
    "# import seaborn as sns\n",
    "from tqdm import tqdm\n",
    "import utils.time_util as tu"
   ]
  },
  {
   "cell_type": "code",
   "execution_count": 2,
   "id": "cb53ce77a8182e12",
   "metadata": {
    "ExecuteTime": {
     "end_time": "2025-05-18T08:49:40.849583200Z",
     "start_time": "2025-05-18T08:49:40.805336700Z"
    },
    "collapsed": false
   },
   "outputs": [],
   "source": [
    "mongo = MongoHelper()\n",
    "collection = mongo.db[\"data\"]\n",
    "data_df = pd.DataFrame(collection.find())\n",
    "tqdm.pandas()"
   ]
  },
  {
   "cell_type": "code",
   "execution_count": null,
   "id": "d8832230d2fad61b",
   "metadata": {
    "ExecuteTime": {
     "end_time": "2025-05-18T08:49:42.061340800Z",
     "start_time": "2025-05-18T08:49:42.003771500Z"
    },
    "collapsed": false
   },
   "outputs": [],
   "source": [
    "def applied_delta(df):\n",
    "    return tu.get_time_delta(\n",
    "        tu.to_time_stamp(df['time']), \n",
    "        tu.to_time_stamp(df['fixtime'])\n",
    "    )\n",
    "\n",
    "data_df.loc[:,'day_of_fix'] = data_df.progress_apply(applied_delta, axis=1)\n",
    "\n",
    "count = (data_df['day_of_fix'] <= 10).sum()\n",
    "print(f\"Fix in 10 days：{count}\")"
   ]
  },
  {
   "cell_type": "code",
   "execution_count": 4,
   "id": "f1876b5aeb9df126",
   "metadata": {
    "ExecuteTime": {
     "end_time": "2025-05-18T08:49:43.161608300Z",
     "start_time": "2025-05-18T08:49:43.134201100Z"
    },
    "collapsed": false
   },
   "outputs": [],
   "source": [
    "for index,row in data_df.iterrows():\n",
    "    if row['day_of_fix'] < 0:\n",
    "        print(row['_id'])"
   ]
  },
  {
   "cell_type": "code",
   "execution_count": null,
   "id": "7a24a9be90c99c41",
   "metadata": {
    "ExecuteTime": {
     "end_time": "2025-05-18T08:49:43.761129600Z",
     "start_time": "2025-05-18T08:49:43.729836600Z"
    },
    "collapsed": false
   },
   "outputs": [],
   "source": [
    "grouped_df = data_df.groupby('tag').filter(lambda x: len(x)>1).groupby('tag')\n",
    "grouped_df"
   ]
  },
  {
   "cell_type": "code",
   "execution_count": null,
   "id": "1245347bd2ca2bcb",
   "metadata": {
    "ExecuteTime": {
     "end_time": "2025-05-18T08:49:44.907685Z",
     "start_time": "2025-05-18T08:49:44.879070600Z"
    },
    "collapsed": false
   },
   "outputs": [],
   "source": [
    "data = []\n",
    "for name, group in grouped_df:\n",
    "    data.append((name, group['day_of_fix']))\n",
    "data"
   ]
  },
  {
   "cell_type": "code",
   "execution_count": null,
   "id": "9fb1587ed27dd6e5",
   "metadata": {
    "ExecuteTime": {
     "end_time": "2025-05-18T08:49:46.173520200Z",
     "start_time": "2025-05-18T08:49:46.148472700Z"
    },
    "collapsed": false
   },
   "outputs": [],
   "source": [
    "def get_median(ele):\n",
    "    return ele[1].median()\n",
    "\n",
    "def get_mean(ele):\n",
    "    return ele[1].mean()\n",
    "    \n",
    "data.sort(key=get_median)\n",
    "data"
   ]
  },
  {
   "cell_type": "code",
   "execution_count": null,
   "id": "e56676eb63eb27a8",
   "metadata": {
    "ExecuteTime": {
     "end_time": "2025-05-18T08:49:58.478809100Z",
     "start_time": "2025-05-18T08:49:58.187142Z"
    },
    "collapsed": false
   },
   "outputs": [],
   "source": [
    "def get_labels(datas):\n",
    "    new_labels = []\n",
    "    for ele in datas:\n",
    "        my_new_label = str(ele[0]).replace(\"_\",\" \")\n",
    "        if my_new_label == \"exception\":\n",
    "            my_new_label = \"leak on exception\"\n",
    "        new_labels.append(my_new_label)\n",
    "    return new_labels\n",
    "\n",
    "plt.grid(False)\n",
    "plt.boxplot([x[1] for x in data], \n",
    "            labels=get_labels(data), \n",
    "            vert=False, showfliers=False, showmeans=True)\n",
    "\n",
    "# plt.xlabel(\"Fixtime\")\n",
    "# plt.ylabel(\"Type\")\n",
    "plt.savefig(\"../files/pics/type-fixtime-boxplot_no_filers.svg\", dpi=300, format=\"svg\", bbox_inches='tight')"
   ]
  },
  {
   "cell_type": "code",
   "execution_count": null,
   "id": "cca94f26cfc502f3",
   "metadata": {
    "ExecuteTime": {
     "end_time": "2024-10-25T21:22:00.437781300Z",
     "start_time": "2024-10-25T21:22:00.402056400Z"
    },
    "collapsed": false
   },
   "outputs": [],
   "source": [
    "simplify_df = data_df[[\"tag\", \"day_of_fix\"]]\n",
    "simplify_df"
   ]
  },
  {
   "cell_type": "code",
   "execution_count": null,
   "id": "36e130b6ae1df485",
   "metadata": {
    "ExecuteTime": {
     "end_time": "2024-10-25T22:24:59.632715700Z",
     "start_time": "2024-10-25T22:24:59.602038200Z"
    },
    "collapsed": false
   },
   "outputs": [],
   "source": [
    "\n",
    "# plt.violinplot(simplify_df, vert=False, showmeans=True)\n",
    "\n",
    "\n",
    "simplify_df['tag'] = simplify_df['tag'].str.replace('_',' ')"
   ]
  },
  {
   "cell_type": "code",
   "execution_count": null,
   "id": "378f4eb22db33553",
   "metadata": {
    "ExecuteTime": {
     "end_time": "2024-10-25T22:31:32.886947400Z",
     "start_time": "2024-10-25T22:31:32.869588Z"
    },
    "collapsed": false
   },
   "outputs": [],
   "source": [
    "my_order = simplify_df.groupby(by=[\"tag\"])['day_of_fix'].max()\n",
    "my_order = my_order.sort_values(ascending=False)\n",
    "my_order.index"
   ]
  },
  {
   "cell_type": "code",
   "execution_count": null,
   "id": "70f757b8b1ee4118",
   "metadata": {
    "ExecuteTime": {
     "end_time": "2024-10-25T22:32:18.768001300Z",
     "start_time": "2024-10-25T22:32:18.129595800Z"
    },
    "collapsed": false
   },
   "outputs": [],
   "source": [
    "\n",
    "# plt.xlabel(\"fix day\")\n",
    "# plt.ylabel(\"type\")\n",
    "# sns.violinplot(x='day_of_fix', y='tag', data=simplify_df, density_norm='width', cut=0, inner='point',\n",
    "#                order=my_order.index)\n",
    "# plt.savefig(\"../files/pics/type-fixtime-violin-plot.svg\", dpi=300, format=\"svg\", bbox_inches='tight')"
   ]
  },
  {
   "cell_type": "code",
   "execution_count": null,
   "id": "e4f98ef9a73e30b",
   "metadata": {
    "collapsed": false
   },
   "outputs": [],
   "source": []
  }
 ],
 "metadata": {
  "kernelspec": {
   "display_name": "Python 3",
   "language": "python",
   "name": "python3"
  },
  "language_info": {
   "codemirror_mode": {
    "name": "ipython",
    "version": 2
   },
   "file_extension": ".py",
   "mimetype": "text/x-python",
   "name": "python",
   "nbconvert_exporter": "python",
   "pygments_lexer": "ipython2",
   "version": "2.7.6"
  }
 },
 "nbformat": 4,
 "nbformat_minor": 5
}
