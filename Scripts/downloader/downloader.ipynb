{
 "cells": [
  {
   "cell_type": "code",
   "execution_count": 1,
   "id": "e4e76a9b99d0ab5a",
   "metadata": {
    "ExecuteTime": {
     "end_time": "2025-04-16T05:39:59.948561400Z",
     "start_time": "2025-04-16T05:39:59.592630400Z"
    },
    "collapsed": false
   },
   "outputs": [],
   "source": [
    "import utils.github_util as gu\n",
    "from github import Github\n",
    "import pandas as pd"
   ]
  },
  {
   "cell_type": "code",
   "execution_count": null,
   "id": "74fd2566855de124",
   "metadata": {
    "ExecuteTime": {
     "end_time": "2025-04-16T05:40:02.465859600Z",
     "start_time": "2025-04-16T05:40:02.446627300Z"
    },
    "collapsed": false
   },
   "outputs": [],
   "source": [
    "# g = Github(\"\")\n"
   ]
  },
  {
   "cell_type": "code",
   "execution_count": null,
   "id": "dd4b805fe5ab18a",
   "metadata": {
    "ExecuteTime": {
     "end_time": "2025-04-15T05:49:18.631688800Z",
     "start_time": "2025-04-15T05:49:18.487217600Z"
    },
    "collapsed": false
   },
   "outputs": [],
   "source": [
    "# ./files/memleak_files/index.csv\n",
    "#  _id + url + tag\n",
    "\n",
    "from utils import mongo_helper\n",
    "\n",
    "mongo = mongo_helper.MongoHelper()\n",
    "prs_df = pd.DataFrame(mongo.db[\"data\"].find())\n",
    "simplified_prs_df = prs_df[[\"url\", \"tag\"]]\n",
    "simplified_prs_df.to_csv(\"./../files/memleak_files/index.csv\")"
   ]
  },
  {
   "cell_type": "code",
   "execution_count": null,
   "id": "33e7bdc0abb6cdbb",
   "metadata": {
    "ExecuteTime": {
     "end_time": "2025-04-16T07:10:09.118044600Z",
     "start_time": "2025-04-16T07:10:04.072046300Z"
    },
    "collapsed": false
   },
   "outputs": [],
   "source": [
    "\n",
    "import os\n",
    "\n",
    "try:\n",
    "    os.chdir(\"./../files/memleak_files\")\n",
    "    prs = pd.read_csv(\"./index.csv\")\n",
    "    \n",
    "    count = len(prs.index)\n",
    "    print(count)\n",
    "\n",
    "    target = prs.iloc[0:1100]\n",
    "    \n",
    "    for index, row in target.iterrows():\n",
    "        url = row['url']\n",
    "        print(f\"Downloading files of index {index} : {url}\")\n",
    "        owner, repo, pull_number = gu.get_info_from_github_url(url)\n",
    "        dir_name = f\"{owner}-{repo}-{pull_number}\"\n",
    "        os.makedirs(dir_name, mode=0o777, exist_ok=True)\n",
    "\n",
    "        patch_diff_url = f\"https://patch-diff.githubusercontent.com/raw/{owner}/{repo}/pull/{pull_number}.diff\"\n",
    "        with open(f\"./{dir_name}/patch.diff\", 'wb') as diff_file:\n",
    "            diff_content = gu.get_raw_file_content(patch_diff_url)\n",
    "            diff_file.write(diff_content)\n",
    "            diff_file.close()\n",
    "\n",
    "        commits_of_pr = []\n",
    "        commits_info_list = gu.get_pr_commits(owner, repo, pull_number)\n",
    "        for commit_info in commits_info_list:\n",
    "            commits_of_pr.append(commit_info[\"sha\"])\n",
    "        last_commit_of_pr = commits_of_pr[-1]\n",
    "        \n",
    "        file_counter = 0\n",
    "        \n",
    "\n",
    "        for file_info in gu.get_files_changed_in_pr(owner, repo, pull_number):\n",
    "            file_path = file_info[\"filename\"]\n",
    "            file_name = os.path.basename(file_path)\n",
    "\n",
    "            if file_name.endswith((\".c\", \".cpp\", \".h\", \".hpp\", \".cc\")):\n",
    "                file_counter += 1\n",
    "                change_history = gu.get_file_changes_with_branch(owner, repo, file_path, last_commit_of_pr)\n",
    "                oldest_sha_index = -1\n",
    "                for change in change_history:\n",
    "                    if change[\"sha\"] in commits_of_pr:\n",
    "                        oldest_sha_index = change_history.index(change)\n",
    "\n",
    "                if oldest_sha_index == -1:\n",
    "                    print(f\"Cannot find history version of file {file_name}!\")\n",
    "                    continue\n",
    "                if oldest_sha_index < (len(change_history)-1):\n",
    "                    oldest_sha_index += 1\n",
    "                target_sha = change_history[oldest_sha_index][\"sha\"]\n",
    "        \n",
    "                saved_file_name = f\"{file_name}\"\n",
    "                with open(f\"./{dir_name}/{saved_file_name}\", 'wb') as f:\n",
    "                    bug_file_content = gu.get_file_content_in_specific_commit(owner, repo, file_path, target_sha)\n",
    "                    f.write(bug_file_content)\n",
    "                    f.close()\n",
    "                \n",
    "            else:\n",
    "                continue\n",
    "                \n",
    "        print(f\"Success: saved {file_counter} files.\")\n",
    "finally:\n",
    "    \n",
    "    os.chdir(\"./../../downloader\")"
   ]
  },
  {
   "cell_type": "code",
   "execution_count": null,
   "id": "db7316917357e942",
   "metadata": {
    "collapsed": false
   },
   "outputs": [],
   "source": []
  }
 ],
 "metadata": {
  "kernelspec": {
   "display_name": "Python 3",
   "language": "python",
   "name": "python3"
  },
  "language_info": {
   "codemirror_mode": {
    "name": "ipython",
    "version": 2
   },
   "file_extension": ".py",
   "mimetype": "text/x-python",
   "name": "python",
   "nbconvert_exporter": "python",
   "pygments_lexer": "ipython2",
   "version": "2.7.6"
  }
 },
 "nbformat": 4,
 "nbformat_minor": 5
}
